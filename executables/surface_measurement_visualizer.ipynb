{
 "cells": [
  {
   "cell_type": "code",
   "execution_count": 9,
   "id": "9f2dc96c",
   "metadata": {},
   "outputs": [],
   "source": [
    "import numpy as np\n",
    "from open3d import *\n",
    "import open3d as o3d\n",
    "from numpy import genfromtxt\n",
    "import math"
   ]
  },
  {
   "cell_type": "code",
   "execution_count": 1,
   "id": "90ad0898",
   "metadata": {},
   "outputs": [],
   "source": [
    "from numpy import genfromtxt\n",
    "points = genfromtxt('./temp/vertex_map_level_1_frame_1.csv', delimiter=';')[:, :3]"
   ]
  },
  {
   "cell_type": "code",
   "execution_count": 2,
   "id": "fdd13b26",
   "metadata": {},
   "outputs": [
    {
     "data": {
      "text/plain": [
       "array([[-inf, -inf, -inf],\n",
       "       [-inf, -inf, -inf],\n",
       "       [-inf, -inf, -inf],\n",
       "       ...,\n",
       "       [-inf, -inf, -inf],\n",
       "       [-inf, -inf, -inf],\n",
       "       [-inf, -inf, -inf]])"
      ]
     },
     "execution_count": 2,
     "metadata": {},
     "output_type": "execute_result"
    }
   ],
   "source": [
    "points"
   ]
  },
  {
   "cell_type": "code",
   "execution_count": 3,
   "id": "bc750fc8",
   "metadata": {},
   "outputs": [
    {
     "data": {
      "text/plain": [
       "(76800, 3)"
      ]
     },
     "execution_count": 3,
     "metadata": {},
     "output_type": "execute_result"
    }
   ],
   "source": [
    "points.shape"
   ]
  },
  {
   "cell_type": "code",
   "execution_count": 4,
   "id": "e322175c",
   "metadata": {},
   "outputs": [],
   "source": [
    "points_no_inf = points[points[:, 0] != -float(\"inf\"), :]"
   ]
  },
  {
   "cell_type": "code",
   "execution_count": 5,
   "id": "ba76e66a",
   "metadata": {},
   "outputs": [
    {
     "data": {
      "text/plain": [
       "array([[-0.389749 , -0.229303 ,  0.701949 ],\n",
       "       [-0.244698 , -0.145968 ,  0.446841 ],\n",
       "       [-0.24283  , -0.146897 ,  0.449684 ],\n",
       "       ...,\n",
       "       [ 0.191772 ,  0.161178 ,  0.1181   ],\n",
       "       [ 0.193075 ,  0.161516 ,  0.118347 ],\n",
       "       [ 0.0423334,  0.0352492,  0.0258281]])"
      ]
     },
     "execution_count": 5,
     "metadata": {},
     "output_type": "execute_result"
    }
   ],
   "source": [
    "points_no_inf"
   ]
  },
  {
   "cell_type": "code",
   "execution_count": 6,
   "id": "7209c312",
   "metadata": {},
   "outputs": [
    {
     "data": {
      "text/plain": [
       "(57558, 3)"
      ]
     },
     "execution_count": 6,
     "metadata": {},
     "output_type": "execute_result"
    }
   ],
   "source": [
    "points_no_inf.shape"
   ]
  },
  {
   "cell_type": "code",
   "execution_count": 10,
   "id": "8c12a5de",
   "metadata": {},
   "outputs": [],
   "source": [
    "pcd = o3d.geometry.PointCloud()\n",
    "pcd.points = o3d.utility.Vector3dVector(points_no_inf)"
   ]
  },
  {
   "cell_type": "code",
   "execution_count": 11,
   "id": "78f61294",
   "metadata": {},
   "outputs": [],
   "source": [
    "o3d.visualization.draw_geometries([pcd])"
   ]
  },
  {
   "cell_type": "code",
   "execution_count": 41,
   "id": "28c17a4d",
   "metadata": {},
   "outputs": [
    {
     "name": "stdout",
     "output_type": "stream",
     "text": [
      "\u001b[33mDEPRECATION: Configuring installation scheme with distutils config files is deprecated and will no longer work in the near future. If you are using a Homebrew or Linuxbrew Python, please see discussion at https://github.com/Homebrew/homebrew-core/issues/76621\u001b[0m\n",
      "\u001b[31mERROR: Could not find a version that satisfies the requirement pptk (from versions: none)\u001b[0m\n",
      "\u001b[31mERROR: No matching distribution found for pptk\u001b[0m\n"
     ]
    }
   ],
   "source": [
    "!pip3 install pptk"
   ]
  },
  {
   "cell_type": "code",
   "execution_count": null,
   "id": "092dc8ec",
   "metadata": {},
   "outputs": [],
   "source": []
  }
 ],
 "metadata": {
  "kernelspec": {
   "display_name": "Python 3 (ipykernel)",
   "language": "python",
   "name": "python3"
  },
  "language_info": {
   "codemirror_mode": {
    "name": "ipython",
    "version": 3
   },
   "file_extension": ".py",
   "mimetype": "text/x-python",
   "name": "python",
   "nbconvert_exporter": "python",
   "pygments_lexer": "ipython3",
   "version": "3.9.9"
  }
 },
 "nbformat": 4,
 "nbformat_minor": 5
}
